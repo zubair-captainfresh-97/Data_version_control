{
 "cells": [
  {
   "cell_type": "code",
   "execution_count": 1,
   "id": "d5c511b6",
   "metadata": {
    "execution": {
     "iopub.execute_input": "2023-03-19T18:11:44.521182Z",
     "iopub.status.busy": "2023-03-19T18:11:44.520907Z",
     "iopub.status.idle": "2023-03-19T18:11:50.690341Z",
     "shell.execute_reply": "2023-03-19T18:11:50.689594Z"
    },
    "id": "oP6OQBaOBlmu",
    "papermill": {
     "duration": 6.176048,
     "end_time": "2023-03-19T18:11:50.692239",
     "exception": false,
     "start_time": "2023-03-19T18:11:44.516191",
     "status": "completed"
    },
    "tags": []
   },
   "outputs": [],
   "source": [
    "import os\n",
    "import numpy as np\n",
    "import glob\n",
    "from skimage.io import imread,imsave\n",
    "import numpy as np\n",
    "from matplotlib import pyplot as plt\n",
    "from patchify import patchify\n",
    "import tensorflow as tf\n",
    "import random\n",
    "import tqdm\n",
    "from rasterio.plot import reshape_as_image\n",
    "import rasterio\n",
    "from tqdm.notebook import tqdm_notebook\n",
    "import yaml"
   ]
  },
  {
   "cell_type": "code",
   "execution_count": 2,
   "id": "c8d9bdb6",
   "metadata": {
    "execution": {
     "iopub.execute_input": "2023-03-19T18:11:50.700326Z",
     "iopub.status.busy": "2023-03-19T18:11:50.699841Z",
     "iopub.status.idle": "2023-03-19T18:11:50.705632Z",
     "shell.execute_reply": "2023-03-19T18:11:50.704992Z"
    },
    "id": "71DORHQ1C-sX",
    "papermill": {
     "duration": 0.011209,
     "end_time": "2023-03-19T18:11:50.707225",
     "exception": false,
     "start_time": "2023-03-19T18:11:50.696016",
     "status": "completed"
    },
    "tags": []
   },
   "outputs": [],
   "source": [
    "params = yaml.safe_load(open(\"params.yaml\"))['tfrecords_creation']"
   ]
  },
  {
   "cell_type": "code",
   "execution_count": 3,
   "id": "08f8cdf8",
   "metadata": {
    "execution": {
     "iopub.execute_input": "2023-03-19T18:11:50.714257Z",
     "iopub.status.busy": "2023-03-19T18:11:50.713985Z",
     "iopub.status.idle": "2023-03-19T18:11:50.716941Z",
     "shell.execute_reply": "2023-03-19T18:11:50.716294Z"
    },
    "papermill": {
     "duration": 0.008247,
     "end_time": "2023-03-19T18:11:50.718540",
     "exception": false,
     "start_time": "2023-03-19T18:11:50.710293",
     "status": "completed"
    },
    "tags": []
   },
   "outputs": [],
   "source": [
    "image_patch = params['Image_patch_size']\n",
    "mask_patch = params['Mask_patch_size']"
   ]
  },
  {
   "cell_type": "code",
   "execution_count": 4,
   "id": "fecef4c2",
   "metadata": {
    "execution": {
     "iopub.execute_input": "2023-03-19T18:11:50.725667Z",
     "iopub.status.busy": "2023-03-19T18:11:50.725397Z",
     "iopub.status.idle": "2023-03-19T18:11:53.094428Z",
     "shell.execute_reply": "2023-03-19T18:11:53.093629Z"
    },
    "id": "bqRgi2w3BnJQ",
    "papermill": {
     "duration": 2.37473,
     "end_time": "2023-03-19T18:11:53.096382",
     "exception": false,
     "start_time": "2023-03-19T18:11:50.721652",
     "status": "completed"
    },
    "tags": []
   },
   "outputs": [
    {
     "data": {
      "application/vnd.jupyter.widget-view+json": {
       "model_id": "56d1cfa702464778ad6a968d7c24c149",
       "version_major": 2,
       "version_minor": 0
      },
      "text/plain": [
       "0it [00:00, ?it/s]"
      ]
     },
     "metadata": {},
     "output_type": "display_data"
    },
    {
     "data": {
      "application/vnd.jupyter.widget-view+json": {
       "model_id": "ba883d80f61d4630b5c0ed71007f6bee",
       "version_major": 2,
       "version_minor": 0
      },
      "text/plain": [
       "0it [00:00, ?it/s]"
      ]
     },
     "metadata": {},
     "output_type": "display_data"
    },
    {
     "name": "stdout",
     "output_type": "stream",
     "text": [
      "Now patchifying image: Smaller_pond_sentinel_data_v1/Images//RS_sentinel_2A_long_79.4517_lat_10.3592_2019-02-25T05_26_45.000000000.tif\n",
      "Now patchifying image: Smaller_pond_sentinel_data_v1/Images//RS_sentinel_2A_long_79.7269014_lat_11.4555343_2021-05-30T05_15_45.000000000.tif\n",
      "Now patchifying image: Smaller_pond_sentinel_data_v1/Images//RS_sentinel_2A_long_79.768401_lat_11.427475_2021-05-30T05_15_45.000000000.tif\n",
      "Now patchifying image: Smaller_pond_sentinel_data_v1/Images//RS_sentinel_2A_long_79.7966_lat_11.3297_2021-05-30T05_15_45.000000000.tif\n"
     ]
    },
    {
     "name": "stdout",
     "output_type": "stream",
     "text": [
      "Now patchifying image: Smaller_pond_sentinel_data_v1/Images//RS_sentinel_2A_long_79.842153_lat_10.431728_2019-04-06T05_21_29.000000000.tif\n",
      "Now patchifying image: Smaller_pond_sentinel_data_v1/Images//RS_sentinel_2A_long_80.137293_lat_14.545728_2022-04-20T05_14_39.000000000.tif\n",
      "Now patchifying image: Smaller_pond_sentinel_data_v1/Images//RS_sentinel_2A_long_80.164282_lat_14.551515_2022-04-20T05_14_39.000000000.tif\n",
      "Now patchifying image: Smaller_pond_sentinel_data_v1/Images//RS_sentinel_2A_long_80.166429_lat_14.531751_2022-04-20T05_14_39.000000000.tif\n"
     ]
    },
    {
     "name": "stdout",
     "output_type": "stream",
     "text": [
      "Now patchifying image: Smaller_pond_sentinel_data_v1/Images//RS_sentinel_2A_long_80.169128_lat_14.45468_2022-05-05T05_15_03.000000000.tif\n",
      "Now patchifying image: Smaller_pond_sentinel_data_v1/Images//RS_sentinel_2A_long_80.6288_lat_15.920469_2022-04-30T05_14_22.000000000.tif\n",
      "Now patchifying image: Smaller_pond_sentinel_data_v1/Images//RS_sentinel_2A_long_80.7301948_lat_15.9193089_2022-06-14T05_14_39.000000000.tif\n",
      "Now patchifying image: Smaller_pond_sentinel_data_v1/Images//RS_sentinel_2A_long_80.762241_lat_15.904174_2022-06-14T05_14_39.000000000.tif\n"
     ]
    },
    {
     "name": "stdout",
     "output_type": "stream",
     "text": [
      "Now patchifying image: Smaller_pond_sentinel_data_v1/Images//RS_sentinel_2A_long_81.002_lat_15.928_2022-08-23T05_14_41.000000000.tif\n",
      "Now patchifying image: Smaller_pond_sentinel_data_v1/Images//RS_sentinel_2A_long_81.04936_lat_16.48142_2019-11-27T05_14_11.000000000.tif\n",
      "Now patchifying image: Smaller_pond_sentinel_data_v1/Images//RS_sentinel_2A_long_81.067_lat_15.939_2022-08-23T05_14_41.000000000.tif\n",
      "Now patchifying image: Smaller_pond_sentinel_data_v1/Images//RS_sentinel_2A_long_81.068_lat_16.038_2022-08-23T05_14_41.000000000.tif\n"
     ]
    },
    {
     "name": "stdout",
     "output_type": "stream",
     "text": [
      "Now patchifying image: Smaller_pond_sentinel_data_v1/Images//RS_sentinel_2A_long_81.079_lat_15.972_2022-08-23T05_14_41.000000000.tif\n",
      "Now patchifying image: Smaller_pond_sentinel_data_v1/Images//RS_sentinel_2A_long_81.095_lat_16.059_2022-06-14T05_14_36.000000000.tif\n",
      "Now patchifying image: Smaller_pond_sentinel_data_v1/Images//RS_sentinel_2A_long_81.38037_lat_16.62149_2021-12-16T05_14_11.000000000.tif\n",
      "Now patchifying image: Smaller_pond_sentinel_data_v1/Images//RS_sentinel_2A_long_81.45614_lat_16.46566_2019-11-27T05_14_11.000000000.tif\n"
     ]
    },
    {
     "name": "stdout",
     "output_type": "stream",
     "text": [
      "Now patchifying image: Smaller_pond_sentinel_data_v1/Images//RS_sentinel_2A_long_81.73695_lat_16.38071_2021-12-16T05_14_11.000000000.tif\n",
      "Now patchifying image: Smaller_pond_sentinel_data_v1/Images//RS_sentinel_2A_long_81.99119_lat_16.49272_2022-03-01T05_14_04.000000000.tif\n",
      "Now patchifying image: Smaller_pond_sentinel_data_v1/Images//RS_sentinel_2A_long_82.028_lat_16.454_2022-07-29T05_14_12.000000000.tif\n",
      "Now patchifying image: Smaller_pond_sentinel_data_v1/Images//RS_sentinel_2A_long_82.12493_lat_16.53084_2022-03-01T05_14_04.000000000.tif\n"
     ]
    }
   ],
   "source": [
    "image_dataset = []\n",
    "img_dir='Smaller_pond_sentinel_data_v1/Images/'\n",
    "for path, subdirs, files in tqdm_notebook(os.walk(img_dir)):\n",
    "    images = sorted(os.listdir(path)) \n",
    "    for i, image_name in tqdm_notebook(enumerate(images)):  \n",
    "        if image_name.endswith(\".tif\"):\n",
    "            ds = rasterio.open(path+\"/\"+image_name)\n",
    "            image = reshape_as_image(ds.read([1,2,3]))\n",
    "            print(\"Now patchifying image:\", path+\"/\"+image_name)\n",
    "            # creating patches with no overlaps\n",
    "            patches_img = patchify(image, (image_patch), step=image_patch[0])  #Step=256 for 256 patches means no overlap\n",
    "            for i in range(patches_img.shape[0]):\n",
    "                for j in range(patches_img.shape[1]):\n",
    "                    \n",
    "                    single_patch_img = patches_img[i,j,:,:]\n",
    "                    single_patch_img = single_patch_img[0] #Drop the extra unecessary dimension that patchify adds.\n",
    "                    image_dataset.append(single_patch_img)\n",
    "images = np.array(image_dataset)"
   ]
  },
  {
   "cell_type": "code",
   "execution_count": 5,
   "id": "66915b1a",
   "metadata": {
    "execution": {
     "iopub.execute_input": "2023-03-19T18:11:53.105699Z",
     "iopub.status.busy": "2023-03-19T18:11:53.105420Z",
     "iopub.status.idle": "2023-03-19T18:11:54.991223Z",
     "shell.execute_reply": "2023-03-19T18:11:54.990488Z"
    },
    "papermill": {
     "duration": 1.892047,
     "end_time": "2023-03-19T18:11:54.992844",
     "exception": false,
     "start_time": "2023-03-19T18:11:53.100797",
     "status": "completed"
    },
    "tags": []
   },
   "outputs": [
    {
     "data": {
      "application/vnd.jupyter.widget-view+json": {
       "model_id": "d6cbfa96fd0e4351880a531e28df92c2",
       "version_major": 2,
       "version_minor": 0
      },
      "text/plain": [
       "0it [00:00, ?it/s]"
      ]
     },
     "metadata": {},
     "output_type": "display_data"
    },
    {
     "data": {
      "application/vnd.jupyter.widget-view+json": {
       "model_id": "c48b35ebfba54bd9b5030093e9797095",
       "version_major": 2,
       "version_minor": 0
      },
      "text/plain": [
       "0it [00:00, ?it/s]"
      ]
     },
     "metadata": {},
     "output_type": "display_data"
    },
    {
     "name": "stdout",
     "output_type": "stream",
     "text": [
      "Now patchifying mask: Smaller_pond_sentinel_data_v1/Masks//RS_sentinel_2A_long_79.4517_lat_10.3592_2019-02-25T05_26_45.000000000_gt.tif\n"
     ]
    },
    {
     "name": "stdout",
     "output_type": "stream",
     "text": [
      "Now patchifying mask: Smaller_pond_sentinel_data_v1/Masks//RS_sentinel_2A_long_79.7269014_lat_11.4555343_2021-05-30T05_15_45.000000000_gt.tif\n",
      "Now patchifying mask: Smaller_pond_sentinel_data_v1/Masks//RS_sentinel_2A_long_79.768401_lat_11.427475_2021-05-30T05_15_45.000000000_gt.tif\n",
      "Now patchifying mask: Smaller_pond_sentinel_data_v1/Masks//RS_sentinel_2A_long_79.7966_lat_11.3297_2021-05-30T05_15_45.000000000_gt.tif\n"
     ]
    },
    {
     "name": "stdout",
     "output_type": "stream",
     "text": [
      "Now patchifying mask: Smaller_pond_sentinel_data_v1/Masks//RS_sentinel_2A_long_79.842153_lat_10.431728_2019-04-06T05_21_29.000000000_gt.tif\n",
      "Now patchifying mask: Smaller_pond_sentinel_data_v1/Masks//RS_sentinel_2A_long_80.137293_lat_14.545728_2022-04-20T05_14_39.000000000_gt.tif\n",
      "Now patchifying mask: Smaller_pond_sentinel_data_v1/Masks//RS_sentinel_2A_long_80.164282_lat_14.551515_2022-04-20T05_14_39.000000000_gt.tif\n",
      "Now patchifying mask: Smaller_pond_sentinel_data_v1/Masks//RS_sentinel_2A_long_80.166429_lat_14.531751_2022-04-20T05_14_39.000000000_gt.tif\n",
      "Now patchifying mask: Smaller_pond_sentinel_data_v1/Masks//RS_sentinel_2A_long_80.169128_lat_14.45468_2022-05-05T05_15_03.000000000_gt.tif\n",
      "Now patchifying mask: Smaller_pond_sentinel_data_v1/Masks//RS_sentinel_2A_long_80.6288_lat_15.920469_2022-04-30T05_14_22.000000000_gt.tif\n"
     ]
    },
    {
     "name": "stdout",
     "output_type": "stream",
     "text": [
      "Now patchifying mask: Smaller_pond_sentinel_data_v1/Masks//RS_sentinel_2A_long_80.7301948_lat_15.9193089_2022-06-14T05_14_39.000000000_gt.tif\n",
      "Now patchifying mask: Smaller_pond_sentinel_data_v1/Masks//RS_sentinel_2A_long_80.762241_lat_15.904174_2022-06-14T05_14_39.000000000_gt.tif\n",
      "Now patchifying mask: Smaller_pond_sentinel_data_v1/Masks//RS_sentinel_2A_long_81.002_lat_15.928_2022-08-23T05_14_41.000000000_gt.tif\n"
     ]
    },
    {
     "name": "stdout",
     "output_type": "stream",
     "text": [
      "Now patchifying mask: Smaller_pond_sentinel_data_v1/Masks//RS_sentinel_2A_long_81.04936_lat_16.48142_2019-11-27T05_14_11.000000000_gt.tif\n",
      "Now patchifying mask: Smaller_pond_sentinel_data_v1/Masks//RS_sentinel_2A_long_81.067_lat_15.939_2022-08-23T05_14_41.000000000_gt.tif\n",
      "Now patchifying mask: Smaller_pond_sentinel_data_v1/Masks//RS_sentinel_2A_long_81.068_lat_16.038_2022-08-23T05_14_41.000000000_gt.tif\n",
      "Now patchifying mask: Smaller_pond_sentinel_data_v1/Masks//RS_sentinel_2A_long_81.079_lat_15.972_2022-08-23T05_14_41.000000000_gt.tif\n",
      "Now patchifying mask: Smaller_pond_sentinel_data_v1/Masks//RS_sentinel_2A_long_81.095_lat_16.059_2022-06-14T05_14_36.000000000_gt.tif\n",
      "Now patchifying mask: Smaller_pond_sentinel_data_v1/Masks//RS_sentinel_2A_long_81.38037_lat_16.62149_2021-12-16T05_14_11.000000000_gt.tif\n",
      "Now patchifying mask: Smaller_pond_sentinel_data_v1/Masks//RS_sentinel_2A_long_81.45614_lat_16.46566_2019-11-27T05_14_11.000000000_gt.tif\n",
      "Now patchifying mask: Smaller_pond_sentinel_data_v1/Masks//RS_sentinel_2A_long_81.73695_lat_16.38071_2021-12-16T05_14_11.000000000_gt.tif\n"
     ]
    },
    {
     "name": "stdout",
     "output_type": "stream",
     "text": [
      "Now patchifying mask: Smaller_pond_sentinel_data_v1/Masks//RS_sentinel_2A_long_81.99119_lat_16.49272_2022-03-01T05_14_04.000000000_gt.tif\n",
      "Now patchifying mask: Smaller_pond_sentinel_data_v1/Masks//RS_sentinel_2A_long_82.028_lat_16.454_2022-07-29T05_14_12.000000000_gt.tif\n",
      "Now patchifying mask: Smaller_pond_sentinel_data_v1/Masks//RS_sentinel_2A_long_82.12493_lat_16.53084_2022-03-01T05_14_04.000000000_gt.tif\n"
     ]
    }
   ],
   "source": [
    "mask_dataset = []\n",
    "mask_dir = 'Smaller_pond_sentinel_data_v1/Masks/'\n",
    "for path, subdirs, files in tqdm_notebook(os.walk(mask_dir)):\n",
    "    masks = sorted(os.listdir(path))  #List of all image names in this subdirectory\n",
    "    for i, mask_name in tqdm_notebook(enumerate(masks)):  \n",
    "        if mask_name.endswith(\".tif\"):           \n",
    "            mask = imread(path+\"/\"+mask_name,0)\n",
    "            print(\"Now patchifying mask:\", path+\"/\"+mask_name)\n",
    "            # creating patches with no overlaps\n",
    "            patches_mask = patchify(mask, (mask_patch), step=mask_patch[0])  #Step=256 for 256 patches means no overlap\n",
    "            for i in range(patches_mask.shape[0]):\n",
    "                for j in range(patches_mask.shape[1]):\n",
    "                    \n",
    "                    single_patch_mask = patches_mask[i,j,:,:]\n",
    "                    mask_dataset.append(single_patch_mask)\n",
    "masks = np.array(mask_dataset)"
   ]
  },
  {
   "cell_type": "code",
   "execution_count": 6,
   "id": "60483ce3",
   "metadata": {
    "execution": {
     "iopub.execute_input": "2023-03-19T18:11:55.003090Z",
     "iopub.status.busy": "2023-03-19T18:11:55.002805Z",
     "iopub.status.idle": "2023-03-19T18:11:55.007086Z",
     "shell.execute_reply": "2023-03-19T18:11:55.006468Z"
    },
    "id": "0RJ1SEc9_KLP",
    "papermill": {
     "duration": 0.010899,
     "end_time": "2023-03-19T18:11:55.008635",
     "exception": false,
     "start_time": "2023-03-19T18:11:54.997736",
     "status": "completed"
    },
    "tags": []
   },
   "outputs": [
    {
     "data": {
      "text/plain": [
       "(1176, 256, 256)"
      ]
     },
     "execution_count": 6,
     "metadata": {},
     "output_type": "execute_result"
    }
   ],
   "source": [
    "masks.shape"
   ]
  },
  {
   "cell_type": "code",
   "execution_count": 7,
   "id": "e6c20411",
   "metadata": {
    "execution": {
     "iopub.execute_input": "2023-03-19T18:11:55.019542Z",
     "iopub.status.busy": "2023-03-19T18:11:55.019272Z",
     "iopub.status.idle": "2023-03-19T18:11:55.023175Z",
     "shell.execute_reply": "2023-03-19T18:11:55.022576Z"
    },
    "papermill": {
     "duration": 0.010463,
     "end_time": "2023-03-19T18:11:55.024678",
     "exception": false,
     "start_time": "2023-03-19T18:11:55.014215",
     "status": "completed"
    },
    "tags": []
   },
   "outputs": [
    {
     "data": {
      "text/plain": [
       "(1176, 256, 256, 3)"
      ]
     },
     "execution_count": 7,
     "metadata": {},
     "output_type": "execute_result"
    }
   ],
   "source": [
    "images.shape"
   ]
  },
  {
   "cell_type": "code",
   "execution_count": 8,
   "id": "85656174",
   "metadata": {
    "execution": {
     "iopub.execute_input": "2023-03-19T18:11:55.061076Z",
     "iopub.status.busy": "2023-03-19T18:11:55.060769Z",
     "iopub.status.idle": "2023-03-19T18:11:56.048535Z",
     "shell.execute_reply": "2023-03-19T18:11:56.047817Z"
    },
    "id": "mQFlG-Pk-qy7",
    "papermill": {
     "duration": 1.02125,
     "end_time": "2023-03-19T18:11:56.050482",
     "exception": false,
     "start_time": "2023-03-19T18:11:55.029232",
     "status": "completed"
    },
    "tags": []
   },
   "outputs": [],
   "source": [
    "import albumentations as A"
   ]
  },
  {
   "cell_type": "code",
   "execution_count": 9,
   "id": "423fadd6",
   "metadata": {
    "execution": {
     "iopub.execute_input": "2023-03-19T18:11:56.061123Z",
     "iopub.status.busy": "2023-03-19T18:11:56.060854Z",
     "iopub.status.idle": "2023-03-19T18:12:06.735806Z",
     "shell.execute_reply": "2023-03-19T18:12:06.735072Z"
    },
    "papermill": {
     "duration": 10.682212,
     "end_time": "2023-03-19T18:12:06.737719",
     "exception": false,
     "start_time": "2023-03-19T18:11:56.055507",
     "status": "completed"
    },
    "tags": []
   },
   "outputs": [],
   "source": [
    "i=1   # variable to iterate till images_to_generate\n",
    "img = []\n",
    "mask1 = []\n",
    "number_of_transformation = 5\n",
    "while i<=(images.shape[0]): \n",
    "    number = random.randint(0, images.shape[0]-1)  #PIck a number to select an image & mask\n",
    "    image = images[number]\n",
    "    mask = masks[number]\n",
    "    aug = A.Compose([A.RandomCrop(128,128,p=1),A.Resize(256,256)])\n",
    "    augmented = aug(image=image, mask=mask)\n",
    "    x1 = augmented[\"image\"]\n",
    "    y1 = augmented[\"mask\"]\n",
    "\n",
    "    aug = A.RandomRotate90(p=1.0)\n",
    "    augmented = aug(image=image, mask=mask)\n",
    "    x2 = augmented['image']\n",
    "    y2 = augmented['mask']\n",
    "\n",
    "    aug = A.GridDistortion(p=1.0)\n",
    "    augmented = aug(image=image, mask=mask)\n",
    "    x3 = augmented['image']\n",
    "    y3 = augmented['mask']\n",
    "\n",
    "    aug = A.HorizontalFlip(p=1.0)\n",
    "    augmented = aug(image=image, mask=mask)\n",
    "    x4 = augmented['image']\n",
    "    y4 = augmented['mask']\n",
    "\n",
    "    aug = A.VerticalFlip(p=1.0)\n",
    "    augmented = aug(image=image, mask=mask)\n",
    "    x5 = augmented['image']\n",
    "    y5 = augmented['mask']\n",
    "    img.append([x1,x2,x3,x4,x5])\n",
    "    mask1.append([y1,y2,y3,y4,y5])\n",
    "    i =i+1\n",
    "\n",
    "newimages = np.array(img)\n",
    "newmasks = np.array(mask1)"
   ]
  },
  {
   "cell_type": "code",
   "execution_count": 10,
   "id": "2283d6a4",
   "metadata": {
    "execution": {
     "iopub.execute_input": "2023-03-19T18:12:06.748439Z",
     "iopub.status.busy": "2023-03-19T18:12:06.748168Z",
     "iopub.status.idle": "2023-03-19T18:12:06.751939Z",
     "shell.execute_reply": "2023-03-19T18:12:06.751300Z"
    },
    "papermill": {
     "duration": 0.010528,
     "end_time": "2023-03-19T18:12:06.753423",
     "exception": false,
     "start_time": "2023-03-19T18:12:06.742895",
     "status": "completed"
    },
    "tags": []
   },
   "outputs": [],
   "source": [
    "newimages =newimages.reshape((newimages.shape[1]*newimages.shape[0]),newimages.shape[2],newimages.shape[3],newimages.shape[4])\n",
    "newmasks =newmasks.reshape((newmasks.shape[1]*newmasks.shape[0]),newmasks.shape[2],newmasks.shape[3])"
   ]
  },
  {
   "cell_type": "code",
   "execution_count": 11,
   "id": "b70e9b3c",
   "metadata": {
    "execution": {
     "iopub.execute_input": "2023-03-19T18:12:06.763865Z",
     "iopub.status.busy": "2023-03-19T18:12:06.763602Z",
     "iopub.status.idle": "2023-03-19T18:12:09.948034Z",
     "shell.execute_reply": "2023-03-19T18:12:09.947286Z"
    },
    "papermill": {
     "duration": 3.191889,
     "end_time": "2023-03-19T18:12:09.949882",
     "exception": false,
     "start_time": "2023-03-19T18:12:06.757993",
     "status": "completed"
    },
    "tags": []
   },
   "outputs": [],
   "source": [
    "finalimages = np.concatenate([newimages,images])\n",
    "finalmasks = np.concatenate([newmasks,masks])"
   ]
  },
  {
   "cell_type": "code",
   "execution_count": 12,
   "id": "30270b98",
   "metadata": {
    "execution": {
     "iopub.execute_input": "2023-03-19T18:12:09.960652Z",
     "iopub.status.busy": "2023-03-19T18:12:09.960382Z",
     "iopub.status.idle": "2023-03-19T18:12:09.964586Z",
     "shell.execute_reply": "2023-03-19T18:12:09.963937Z"
    },
    "papermill": {
     "duration": 0.011031,
     "end_time": "2023-03-19T18:12:09.966084",
     "exception": false,
     "start_time": "2023-03-19T18:12:09.955053",
     "status": "completed"
    },
    "tags": []
   },
   "outputs": [
    {
     "data": {
      "text/plain": [
       "(7056, 256, 256, 3)"
      ]
     },
     "execution_count": 12,
     "metadata": {},
     "output_type": "execute_result"
    }
   ],
   "source": [
    "finalimages.shape"
   ]
  },
  {
   "cell_type": "code",
   "execution_count": 13,
   "id": "7ec1de39",
   "metadata": {
    "execution": {
     "iopub.execute_input": "2023-03-19T18:12:09.976468Z",
     "iopub.status.busy": "2023-03-19T18:12:09.976202Z",
     "iopub.status.idle": "2023-03-19T18:12:09.980058Z",
     "shell.execute_reply": "2023-03-19T18:12:09.979446Z"
    },
    "papermill": {
     "duration": 0.010673,
     "end_time": "2023-03-19T18:12:09.981568",
     "exception": false,
     "start_time": "2023-03-19T18:12:09.970895",
     "status": "completed"
    },
    "tags": []
   },
   "outputs": [
    {
     "data": {
      "text/plain": [
       "(7056, 256, 256)"
      ]
     },
     "execution_count": 13,
     "metadata": {},
     "output_type": "execute_result"
    }
   ],
   "source": [
    "finalmasks.shape"
   ]
  },
  {
   "cell_type": "code",
   "execution_count": 14,
   "id": "0509c88b",
   "metadata": {
    "execution": {
     "iopub.execute_input": "2023-03-19T18:12:09.992132Z",
     "iopub.status.busy": "2023-03-19T18:12:09.991866Z",
     "iopub.status.idle": "2023-03-19T18:12:10.345244Z",
     "shell.execute_reply": "2023-03-19T18:12:10.344567Z"
    },
    "papermill": {
     "duration": 0.360501,
     "end_time": "2023-03-19T18:12:10.346863",
     "exception": false,
     "start_time": "2023-03-19T18:12:09.986362",
     "status": "completed"
    },
    "tags": []
   },
   "outputs": [
    {
     "data": {
      "image/png": "[encoded data removed]",
      "text/plain": [
       "<Figure size 720x720 with 2 Axes>"
      ]
     },
     "metadata": {
      "needs_background": "light"
     },
     "output_type": "display_data"
    }
   ],
   "source": [
    "import random\n",
    "img_number = random.randint(0, newimages.shape[0]-1)\n",
    "img = newimages[img_number]\n",
    "mask = newmasks[img_number]\n",
    "plt.figure(figsize=(10, 10))\n",
    "plt.subplot(2,2,1)\n",
    "plt.title('Image',size = 25)\n",
    "plt.imshow(img[:,:,0:3])\n",
    "plt.subplot(2,2,2)\n",
    "plt.title('Mask',size = 25)\n",
    "plt.imshow(mask)\n",
    "plt.show()"
   ]
  },
  {
   "cell_type": "code",
   "execution_count": 15,
   "id": "90f18c9f",
   "metadata": {
    "execution": {
     "iopub.execute_input": "2023-03-19T18:12:10.359549Z",
     "iopub.status.busy": "2023-03-19T18:12:10.359277Z",
     "iopub.status.idle": "2023-03-19T18:12:10.363257Z",
     "shell.execute_reply": "2023-03-19T18:12:10.362589Z"
    },
    "papermill": {
     "duration": 0.011802,
     "end_time": "2023-03-19T18:12:10.364742",
     "exception": false,
     "start_time": "2023-03-19T18:12:10.352940",
     "status": "completed"
    },
    "tags": []
   },
   "outputs": [],
   "source": [
    "def image_example(image_string,mask):\n",
    "  feature = {\n",
    "      \"image\":tf.train.Feature(float_list=tf.train.FloatList(value=image_string.flatten())),\n",
    "      \"mask\":tf.train.Feature(float_list=tf.train.FloatList(value=mask.flatten()))\n",
    "            }\n",
    "\n",
    "  return tf.train.Example(features=tf.train.Features(feature=feature))"
   ]
  },
  {
   "cell_type": "code",
   "execution_count": 16,
   "id": "89487424",
   "metadata": {
    "execution": {
     "iopub.execute_input": "2023-03-19T18:12:10.376991Z",
     "iopub.status.busy": "2023-03-19T18:12:10.376727Z",
     "iopub.status.idle": "2023-03-19T18:12:10.382637Z",
     "shell.execute_reply": "2023-03-19T18:12:10.381985Z"
    },
    "id": "NIFfYF1CC67K",
    "papermill": {
     "duration": 0.013662,
     "end_time": "2023-03-19T18:12:10.384134",
     "exception": false,
     "start_time": "2023-03-19T18:12:10.370472",
     "status": "completed"
    },
    "tags": []
   },
   "outputs": [],
   "source": [
    "def write_images_to_tfr_long(images,mask, filename:str=\"large_images\", max_files:int=10, out_dir:str=\"/content/\"):\n",
    "\n",
    "  #determine the number of shards (single TFRecord files) we need:\n",
    "  splits = (len(images)//max_files) + 1 #determine how many tfr shards are needed\n",
    "  if len(images)%max_files == 0:\n",
    "    splits-=1\n",
    "  print(f\"\\nUsing {splits} shard(s) for {len(images)} files, with up to {max_files} samples per shard\")\n",
    "\n",
    "  file_count = 0\n",
    "\n",
    "  for i in tqdm_notebook(range(splits)):\n",
    "    current_shard_name = \"{}{}_{}{}.tfrecords\".format(out_dir, i+1, splits, filename)\n",
    "    writer = tf.io.TFRecordWriter(current_shard_name)\n",
    "\n",
    "    current_shard_count = 0\n",
    "    while current_shard_count < max_files: #as long as our shard is not full\n",
    "      #get the index of the file that we want to parse now\n",
    "      index = i*max_files+current_shard_count\n",
    "      if index == len(images): #when we have consumed the whole data, preempt generation\n",
    "        break\n",
    "      \n",
    "      current_image = images[index]\n",
    "      current_mask = mask[index]\n",
    "\n",
    "      #create the required Example representation\n",
    "      tf_example = image_example(image_string=current_image,mask=current_mask)\n",
    "    \n",
    "      writer.write(tf_example.SerializeToString())\n",
    "      current_shard_count+=1\n",
    "      file_count += 1\n",
    "\n",
    "    writer.close()\n",
    "  print(f\"\\nWrote {file_count} elements to TFRecord\")\n",
    "  return file_count"
   ]
  },
  {
   "cell_type": "code",
   "execution_count": 17,
   "id": "2b6e2b2b",
   "metadata": {
    "execution": {
     "iopub.execute_input": "2023-03-19T18:12:10.396401Z",
     "iopub.status.busy": "2023-03-19T18:12:10.396136Z",
     "iopub.status.idle": "2023-03-19T18:12:10.399084Z",
     "shell.execute_reply": "2023-03-19T18:12:10.398469Z"
    },
    "id": "lxb0suqcC-5t",
    "papermill": {
     "duration": 0.010783,
     "end_time": "2023-03-19T18:12:10.400566",
     "exception": false,
     "start_time": "2023-03-19T18:12:10.389783",
     "status": "completed"
    },
    "tags": []
   },
   "outputs": [],
   "source": [
    "filename = 'tfrecords/'\n",
    "os.makedirs(filename, exist_ok=True)"
   ]
  },
  {
   "cell_type": "code",
   "execution_count": 18,
   "id": "a3d4263a",
   "metadata": {
    "colab": {
     "base_uri": "https://localhost:8080/"
    },
    "execution": {
     "iopub.execute_input": "2023-03-19T18:12:10.412851Z",
     "iopub.status.busy": "2023-03-19T18:12:10.412587Z",
     "iopub.status.idle": "2023-03-19T18:17:54.017279Z",
     "shell.execute_reply": "2023-03-19T18:17:54.016595Z"
    },
    "id": "hwSK3dBlDCkh",
    "outputId": "849cfbf3-e021-46bc-d8e2-3ce08261ca00",
    "papermill": {
     "duration": 343.613292,
     "end_time": "2023-03-19T18:17:54.019530",
     "exception": false,
     "start_time": "2023-03-19T18:12:10.406238",
     "status": "completed"
    },
    "tags": []
   },
   "outputs": [
    {
     "name": "stdout",
     "output_type": "stream",
     "text": [
      "\n",
      "Using 15 shard(s) for 7056 files, with up to 500 samples per shard\n"
     ]
    },
    {
     "data": {
      "application/vnd.jupyter.widget-view+json": {
       "model_id": "104ae241a18846a28da011e45fe90e5c",
       "version_major": 2,
       "version_minor": 0
      },
      "text/plain": [
       "  0%|          | 0/15 [00:00<?, ?it/s]"
      ]
     },
     "metadata": {},
     "output_type": "display_data"
    },
    {
     "name": "stdout",
     "output_type": "stream",
     "text": [
      "\n",
      "Wrote 7056 elements to TFRecord\n"
     ]
    },
    {
     "data": {
      "text/plain": [
       "7056"
      ]
     },
     "execution_count": 18,
     "metadata": {},
     "output_type": "execute_result"
    }
   ],
   "source": [
    "write_images_to_tfr_long(images = finalimages,mask =finalmasks, max_files=500,out_dir=filename)"
   ]
  }
 ],
 "metadata": {
  "colab": {
   "provenance": []
  },
  "kernelspec": {
   "display_name": "Python 3.9.15 ('tensor')",
   "language": "python",
   "name": "python3"
  },
  "language_info": {
   "codemirror_mode": {
    "name": "ipython",
    "version": 3
   },
   "file_extension": ".py",
   "mimetype": "text/x-python",
   "name": "python",
   "nbconvert_exporter": "python",
   "pygments_lexer": "ipython3",
   "version": "3.9.15"
  },
  "papermill": {
   "default_parameters": {},
   "duration": 372.261312,
   "end_time": "2023-03-19T18:17:55.436175",
   "environment_variables": {},
   "exception": null,
   "input_path": "notebooks/albumentations_and_patchify-v1-sentinel.ipynb",
   "output_path": "notebook_output/albumentations_and_patchify-v1-sentinel.ipynb",
   "parameters": {},
   "start_time": "2023-03-19T18:11:43.174863",
   "version": "2.4.0"
  },
  "vscode": {
   "interpreter": {
    "hash": "a7e3d68acf3053187c5b77579300c0651533903882d6ac7cf345b8b37dbd4fd7"
   }
  },
  "widgets": {
   "application/vnd.jupyter.widget-state+json": {
    "state": {
     "08fe990b2bc54a4c945a118ec7133859": {
      "model_module": "@jupyter-widgets/controls",
      "model_module_version": "2.0.0",
      "model_name": "FloatProgressModel",
      "state": {
       "_dom_classes": [],
       "_model_module": "@jupyter-widgets/controls",
       "_model_module_version": "2.0.0",
       "_model_name": "FloatProgressModel",
       "_view_count": null,
       "_view_module": "@jupyter-widgets/controls",
       "_view_module_version": "2.0.0",
       "_view_name": "ProgressView",
       "bar_style": "success",
       "description": "",
       "description_allow_html": false,
       "layout": "IPY_MODEL_d03cc8be8993441bbdc5b29cc6098eb5",
       "max": 1.0,
       "min": 0.0,
       "orientation": "horizontal",
       "style": "IPY_MODEL_554ad5af5fa64b66b47044496b407344",
       "tabbable": null,
       "tooltip": null,
       "value": 1.0
      }
     },
     "104ae241a18846a28da011e45fe90e5c": {
      "model_module": "@jupyter-widgets/controls",
      "model_module_version": "2.0.0",
      "model_name": "HBoxModel",
      "state": {
       "_dom_classes": [],
       "_model_module": "@jupyter-widgets/controls",
       "_model_module_version": "2.0.0",
       "_model_name": "HBoxModel",
       "_view_count": null,
       "_view_module": "@jupyter-widgets/controls",
       "_view_module_version": "2.0.0",
       "_view_name": "HBoxView",
       "box_style": "",
       "children": [
        "IPY_MODEL_d4642122c1f24bd2afd52323eb4ae935",
        "IPY_MODEL_e5fcd09eb2ff42a8bac10878735b699c",
        "IPY_MODEL_2cdef908fadf40c3a86ae24427e36b13"
       ],
       "layout": "IPY_MODEL_76bb59c1d1ac47c4b1542d84aacee457",
       "tabbable": null,
       "tooltip": null
      }
     },
     "27811eda42ab4d3a92d57adc26f3c6b3": {
      "model_module": "@jupyter-widgets/controls",
      "model_module_version": "2.0.0",
      "model_name": "HTMLStyleModel",
      "state": {
       "_model_module": "@jupyter-widgets/controls",
       "_model_module_version": "2.0.0",
       "_model_name": "HTMLStyleModel",
       "_view_count": null,
       "_view_module": "@jupyter-widgets/base",
       "_view_module_version": "2.0.0",
       "_view_name": "StyleView",
       "background": null,
       "description_width": "",
       "font_size": null,
       "text_color": null
      }
     },
     "2a9ad0967063448aa6102bd2e877a2dc": {
      "model_module": "@jupyter-widgets/base",
      "model_module_version": "2.0.0",
      "model_name": "LayoutModel",
      "state": {
       "_model_module": "@jupyter-widgets/base",
       "_model_module_version": "2.0.0",
       "_model_name": "LayoutModel",
       "_view_count": null,
       "_view_module": "@jupyter-widgets/base",
       "_view_module_version": "2.0.0",
       "_view_name": "LayoutView",
       "align_content": null,
       "align_items": null,
       "align_self": null,
       "border_bottom": null,
       "border_left": null,
       "border_right": null,
       "border_top": null,
       "bottom": null,
       "display": null,
       "flex": null,
       "flex_flow": null,
       "grid_area": null,
       "grid_auto_columns": null,
       "grid_auto_flow": null,
       "grid_auto_rows": null,
       "grid_column": null,
       "grid_gap": null,
       "grid_row": null,
       "grid_template_areas": null,
       "grid_template_columns": null,
       "grid_template_rows": null,
       "height": null,
       "justify_content": null,
       "justify_items": null,
       "left": null,
       "margin": null,
       "max_height": null,
       "max_width": null,
       "min_height": null,
       "min_width": null,
       "object_fit": null,
       "object_position": null,
       "order": null,
       "overflow": null,
       "padding": null,
       "right": null,
       "top": null,
       "visibility": null,
       "width": null
      }
     },
     "2cdef908fadf40c3a86ae24427e36b13": {
      "model_module": "@jupyter-widgets/controls",
      "model_module_version": "2.0.0",
      "model_name": "HTMLModel",
      "state": {
       "_dom_classes": [],
       "_model_module": "@jupyter-widgets/controls",
       "_model_module_version": "2.0.0",
       "_model_name": "HTMLModel",
       "_view_count": null,
       "_view_module": "@jupyter-widgets/controls",
       "_view_module_version": "2.0.0",
       "_view_name": "HTMLView",
       "description": "",
       "description_allow_html": false,
       "layout": "IPY_MODEL_e50eefd43ab644f0b2578e716a7d26db",
       "placeholder": "​",
       "style": "IPY_MODEL_a82744a572dd4cf185372a91cc213028",
       "tabbable": null,
       "tooltip": null,
       "value": " 15/15 [05:43&lt;00:00, 17.84s/it]"
      }
     },
     "2ef741e92f5547048f52ae8c38d68cfb": {
      "model_module": "@jupyter-widgets/controls",
      "model_module_version": "2.0.0",
      "model_name": "ProgressStyleModel",
      "state": {
       "_model_module": "@jupyter-widgets/controls",
       "_model_module_version": "2.0.0",
       "_model_name": "ProgressStyleModel",
       "_view_count": null,
       "_view_module": "@jupyter-widgets/base",
       "_view_module_version": "2.0.0",
       "_view_name": "StyleView",
       "bar_color": null,
       "description_width": ""
      }
     },
     "3629972def3c473cbfb9a129f831dad9": {
      "model_module": "@jupyter-widgets/base",
      "model_module_version": "2.0.0",
      "model_name": "LayoutModel",
      "state": {
       "_model_module": "@jupyter-widgets/base",
       "_model_module_version": "2.0.0",
       "_model_name": "LayoutModel",
       "_view_count": null,
       "_view_module": "@jupyter-widgets/base",
       "_view_module_version": "2.0.0",
       "_view_name": "LayoutView",
       "align_content": null,
       "align_items": null,
       "align_self": null,
       "border_bottom": null,
       "border_left": null,
       "border_right": null,
       "border_top": null,
       "bottom": null,
       "display": null,
       "flex": null,
       "flex_flow": null,
       "grid_area": null,
       "grid_auto_columns": null,
       "grid_auto_flow": null,
       "grid_auto_rows": null,
       "grid_column": null,
       "grid_gap": null,
       "grid_row": null,
       "grid_template_areas": null,
       "grid_template_columns": null,
       "grid_template_rows": null,
       "height": null,
       "justify_content": null,
       "justify_items": null,
       "left": null,
       "margin": null,
       "max_height": null,
       "max_width": null,
       "min_height": null,
       "min_width": null,
       "object_fit": null,
       "object_position": null,
       "order": null,
       "overflow": null,
       "padding": null,
       "right": null,
       "top": null,
       "visibility": null,
       "width": "20px"
      }
     },
     "42705e01364b42d895b389a24b822561": {
      "model_module": "@jupyter-widgets/base",
      "model_module_version": "2.0.0",
      "model_name": "LayoutModel",
      "state": {
       "_model_module": "@jupyter-widgets/base",
       "_model_module_version": "2.0.0",
       "_model_name": "LayoutModel",
       "_view_count": null,
       "_view_module": "@jupyter-widgets/base",
       "_view_module_version": "2.0.0",
       "_view_name": "LayoutView",
       "align_content": null,
       "align_items": null,
       "align_self": null,
       "border_bottom": null,
       "border_left": null,
       "border_right": null,
       "border_top": null,
       "bottom": null,
       "display": null,
       "flex": null,
       "flex_flow": null,
       "grid_area": null,
       "grid_auto_columns": null,
       "grid_auto_flow": null,
       "grid_auto_rows": null,
       "grid_column": null,
       "grid_gap": null,
       "grid_row": null,
       "grid_template_areas": null,
       "grid_template_columns": null,
       "grid_template_rows": null,
       "height": null,
       "justify_content": null,
       "justify_items": null,
       "left": null,
       "margin": null,
       "max_height": null,
       "max_width": null,
       "min_height": null,
       "min_width": null,
       "object_fit": null,
       "object_position": null,
       "order": null,
       "overflow": null,
       "padding": null,
       "right": null,
       "top": null,
       "visibility": null,
       "width": null
      }
     },
     "45df051f654741328da658dfb7850f98": {
      "model_module": "@jupyter-widgets/controls",
      "model_module_version": "2.0.0",
      "model_name": "FloatProgressModel",
      "state": {
       "_dom_classes": [],
       "_model_module": "@jupyter-widgets/controls",
       "_model_module_version": "2.0.0",
       "_model_name": "FloatProgressModel",
       "_view_count": null,
       "_view_module": "@jupyter-widgets/controls",
       "_view_module_version": "2.0.0",
       "_view_name": "ProgressView",
       "bar_style": "success",
       "description": "",
       "description_allow_html": false,
       "layout": "IPY_MODEL_3629972def3c473cbfb9a129f831dad9",
       "max": 1.0,
       "min": 0.0,
       "orientation": "horizontal",
       "style": "IPY_MODEL_daa4654134c44727a821879875aa45fa",
       "tabbable": null,
       "tooltip": null,
       "value": 1.0
      }
     },
     "48597d33e4934e1b85ed1a3ea5e08487": {
      "model_module": "@jupyter-widgets/base",
      "model_module_version": "2.0.0",
      "model_name": "LayoutModel",
      "state": {
       "_model_module": "@jupyter-widgets/base",
       "_model_module_version": "2.0.0",
       "_model_name": "LayoutModel",
       "_view_count": null,
       "_view_module": "@jupyter-widgets/base",
       "_view_module_version": "2.0.0",
       "_view_name": "LayoutView",
       "align_content": null,
       "align_items": null,
       "align_self": null,
       "border_bottom": null,
       "border_left": null,
       "border_right": null,
       "border_top": null,
       "bottom": null,
       "display": null,
       "flex": null,
       "flex_flow": null,
       "grid_area": null,
       "grid_auto_columns": null,
       "grid_auto_flow": null,
       "grid_auto_rows": null,
       "grid_column": null,
       "grid_gap": null,
       "grid_row": null,
       "grid_template_areas": null,
       "grid_template_columns": null,
       "grid_template_rows": null,
       "height": null,
       "justify_content": null,
       "justify_items": null,
       "left": null,
       "margin": null,
       "max_height": null,
       "max_width": null,
       "min_height": null,
       "min_width": null,
       "object_fit": null,
       "object_position": null,
       "order": null,
       "overflow": null,
       "padding": null,
       "right": null,
       "top": null,
       "visibility": null,
       "width": null
      }
     },
     "517b65188eb340db94839fdc834467d6": {
      "model_module": "@jupyter-widgets/base",
      "model_module_version": "2.0.0",
      "model_name": "LayoutModel",
      "state": {
       "_model_module": "@jupyter-widgets/base",
       "_model_module_version": "2.0.0",
       "_model_name": "LayoutModel",
       "_view_count": null,
       "_view_module": "@jupyter-widgets/base",
       "_view_module_version": "2.0.0",
       "_view_name": "LayoutView",
       "align_content": null,
       "align_items": null,
       "align_self": null,
       "border_bottom": null,
       "border_left": null,
       "border_right": null,
       "border_top": null,
       "bottom": null,
       "display": null,
       "flex": null,
       "flex_flow": null,
       "grid_area": null,
       "grid_auto_columns": null,
       "grid_auto_flow": null,
       "grid_auto_rows": null,
       "grid_column": null,
       "grid_gap": null,
       "grid_row": null,
       "grid_template_areas": null,
       "grid_template_columns": null,
       "grid_template_rows": null,
       "height": null,
       "justify_content": null,
       "justify_items": null,
       "left": null,
       "margin": null,
       "max_height": null,
       "max_width": null,
       "min_height": null,
       "min_width": null,
       "object_fit": null,
       "object_position": null,
       "order": null,
       "overflow": null,
       "padding": null,
       "right": null,
       "top": null,
       "visibility": null,
       "width": null
      }
     },
     "547365b016ec4840bc0113af326f9e13": {
      "model_module": "@jupyter-widgets/controls",
      "model_module_version": "2.0.0",
      "model_name": "FloatProgressModel",
      "state": {
       "_dom_classes": [],
       "_model_module": "@jupyter-widgets/controls",
       "_model_module_version": "2.0.0",
       "_model_name": "FloatProgressModel",
       "_view_count": null,
       "_view_module": "@jupyter-widgets/controls",
       "_view_module_version": "2.0.0",
       "_view_name": "ProgressView",
       "bar_style": "success",
       "description": "",
       "description_allow_html": false,
       "layout": "IPY_MODEL_9106dd6ad5fd4f99955140b4d4f778dc",
       "max": 1.0,
       "min": 0.0,
       "orientation": "horizontal",
       "style": "IPY_MODEL_2ef741e92f5547048f52ae8c38d68cfb",
       "tabbable": null,
       "tooltip": null,
       "value": 1.0
      }
     },
     "54c1fe4b3c834305942e21e83c158bdf": {
      "model_module": "@jupyter-widgets/controls",
      "model_module_version": "2.0.0",
      "model_name": "HTMLModel",
      "state": {
       "_dom_classes": [],
       "_model_module": "@jupyter-widgets/controls",
       "_model_module_version": "2.0.0",
       "_model_name": "HTMLModel",
       "_view_count": null,
       "_view_module": "@jupyter-widgets/controls",
       "_view_module_version": "2.0.0",
       "_view_name": "HTMLView",
       "description": "",
       "description_allow_html": false,
       "layout": "IPY_MODEL_b199e646576446718b5730d6fce36691",
       "placeholder": "​",
       "style": "IPY_MODEL_eb051b8d18dc4dc683e48f3cababae65",
       "tabbable": null,
       "tooltip": null,
       "value": " 24/? [00:01&lt;00:00, 14.37it/s]"
      }
     },
     "554ad5af5fa64b66b47044496b407344": {
      "model_module": "@jupyter-widgets/controls",
      "model_module_version": "2.0.0",
      "model_name": "ProgressStyleModel",
      "state": {
       "_model_module": "@jupyter-widgets/controls",
       "_model_module_version": "2.0.0",
       "_model_name": "ProgressStyleModel",
       "_view_count": null,
       "_view_module": "@jupyter-widgets/base",
       "_view_module_version": "2.0.0",
       "_view_name": "StyleView",
       "bar_color": null,
       "description_width": ""
      }
     },
     "56d1cfa702464778ad6a968d7c24c149": {
      "model_module": "@jupyter-widgets/controls",
      "model_module_version": "2.0.0",
      "model_name": "HBoxModel",
      "state": {
       "_dom_classes": [],
       "_model_module": "@jupyter-widgets/controls",
       "_model_module_version": "2.0.0",
       "_model_name": "HBoxModel",
       "_view_count": null,
       "_view_module": "@jupyter-widgets/controls",
       "_view_module_version": "2.0.0",
       "_view_name": "HBoxView",
       "box_style": "",
       "children": [
        "IPY_MODEL_7e7fb9bdbe7e41c8b4c7bda96c9ba377",
        "IPY_MODEL_45df051f654741328da658dfb7850f98",
        "IPY_MODEL_a61de6ac5ad342339052ff1b03a5f424"
       ],
       "layout": "IPY_MODEL_48597d33e4934e1b85ed1a3ea5e08487",
       "tabbable": null,
       "tooltip": null
      }
     },
     "6593a5f3e8f4483989931828b1f8192a": {
      "model_module": "@jupyter-widgets/controls",
      "model_module_version": "2.0.0",
      "model_name": "HTMLStyleModel",
      "state": {
       "_model_module": "@jupyter-widgets/controls",
       "_model_module_version": "2.0.0",
       "_model_name": "HTMLStyleModel",
       "_view_count": null,
       "_view_module": "@jupyter-widgets/base",
       "_view_module_version": "2.0.0",
       "_view_name": "StyleView",
       "background": null,
       "description_width": "",
       "font_size": null,
       "text_color": null
      }
     },
     "76bb59c1d1ac47c4b1542d84aacee457": {
      "model_module": "@jupyter-widgets/base",
      "model_module_version": "2.0.0",
      "model_name": "LayoutModel",
      "state": {
       "_model_module": "@jupyter-widgets/base",
       "_model_module_version": "2.0.0",
       "_model_name": "LayoutModel",
       "_view_count": null,
       "_view_module": "@jupyter-widgets/base",
       "_view_module_version": "2.0.0",
       "_view_name": "LayoutView",
       "align_content": null,
       "align_items": null,
       "align_self": null,
       "border_bottom": null,
       "border_left": null,
       "border_right": null,
       "border_top": null,
       "bottom": null,
       "display": null,
       "flex": null,
       "flex_flow": null,
       "grid_area": null,
       "grid_auto_columns": null,
       "grid_auto_flow": null,
       "grid_auto_rows": null,
       "grid_column": null,
       "grid_gap": null,
       "grid_row": null,
       "grid_template_areas": null,
       "grid_template_columns": null,
       "grid_template_rows": null,
       "height": null,
       "justify_content": null,
       "justify_items": null,
       "left": null,
       "margin": null,
       "max_height": null,
       "max_width": null,
       "min_height": null,
       "min_width": null,
       "object_fit": null,
       "object_position": null,
       "order": null,
       "overflow": null,
       "padding": null,
       "right": null,
       "top": null,
       "visibility": null,
       "width": null
      }
     },
     "79b7e52d764946569a3e515312dcd718": {
      "model_module": "@jupyter-widgets/base",
      "model_module_version": "2.0.0",
      "model_name": "LayoutModel",
      "state": {
       "_model_module": "@jupyter-widgets/base",
       "_model_module_version": "2.0.0",
       "_model_name": "LayoutModel",
       "_view_count": null,
       "_view_module": "@jupyter-widgets/base",
       "_view_module_version": "2.0.0",
       "_view_name": "LayoutView",
       "align_content": null,
       "align_items": null,
       "align_self": null,
       "border_bottom": null,
       "border_left": null,
       "border_right": null,
       "border_top": null,
       "bottom": null,
       "display": null,
       "flex": null,
       "flex_flow": null,
       "grid_area": null,
       "grid_auto_columns": null,
       "grid_auto_flow": null,
       "grid_auto_rows": null,
       "grid_column": null,
       "grid_gap": null,
       "grid_row": null,
       "grid_template_areas": null,
       "grid_template_columns": null,
       "grid_template_rows": null,
       "height": null,
       "justify_content": null,
       "justify_items": null,
       "left": null,
       "margin": null,
       "max_height": null,
       "max_width": null,
       "min_height": null,
       "min_width": null,
       "object_fit": null,
       "object_position": null,
       "order": null,
       "overflow": null,
       "padding": null,
       "right": null,
       "top": null,
       "visibility": null,
       "width": "20px"
      }
     },
     "7e7fb9bdbe7e41c8b4c7bda96c9ba377": {
      "model_module": "@jupyter-widgets/controls",
      "model_module_version": "2.0.0",
      "model_name": "HTMLModel",
      "state": {
       "_dom_classes": [],
       "_model_module": "@jupyter-widgets/controls",
       "_model_module_version": "2.0.0",
       "_model_name": "HTMLModel",
       "_view_count": null,
       "_view_module": "@jupyter-widgets/controls",
       "_view_module_version": "2.0.0",
       "_view_name": "HTMLView",
       "description": "",
       "description_allow_html": false,
       "layout": "IPY_MODEL_42705e01364b42d895b389a24b822561",
       "placeholder": "​",
       "style": "IPY_MODEL_27811eda42ab4d3a92d57adc26f3c6b3",
       "tabbable": null,
       "tooltip": null,
       "value": ""
      }
     },
     "7faf2db376104bcfb840355b664bc901": {
      "model_module": "@jupyter-widgets/controls",
      "model_module_version": "2.0.0",
      "model_name": "HTMLStyleModel",
      "state": {
       "_model_module": "@jupyter-widgets/controls",
       "_model_module_version": "2.0.0",
       "_model_name": "HTMLStyleModel",
       "_view_count": null,
       "_view_module": "@jupyter-widgets/base",
       "_view_module_version": "2.0.0",
       "_view_name": "StyleView",
       "background": null,
       "description_width": "",
       "font_size": null,
       "text_color": null
      }
     },
     "80bd7e93cdc6484faf03e3fb7dbdfb66": {
      "model_module": "@jupyter-widgets/base",
      "model_module_version": "2.0.0",
      "model_name": "LayoutModel",
      "state": {
       "_model_module": "@jupyter-widgets/base",
       "_model_module_version": "2.0.0",
       "_model_name": "LayoutModel",
       "_view_count": null,
       "_view_module": "@jupyter-widgets/base",
       "_view_module_version": "2.0.0",
       "_view_name": "LayoutView",
       "align_content": null,
       "align_items": null,
       "align_self": null,
       "border_bottom": null,
       "border_left": null,
       "border_right": null,
       "border_top": null,
       "bottom": null,
       "display": null,
       "flex": null,
       "flex_flow": null,
       "grid_area": null,
       "grid_auto_columns": null,
       "grid_auto_flow": null,
       "grid_auto_rows": null,
       "grid_column": null,
       "grid_gap": null,
       "grid_row": null,
       "grid_template_areas": null,
       "grid_template_columns": null,
       "grid_template_rows": null,
       "height": null,
       "justify_content": null,
       "justify_items": null,
       "left": null,
       "margin": null,
       "max_height": null,
       "max_width": null,
       "min_height": null,
       "min_width": null,
       "object_fit": null,
       "object_position": null,
       "order": null,
       "overflow": null,
       "padding": null,
       "right": null,
       "top": null,
       "visibility": null,
       "width": null
      }
     },
     "9106dd6ad5fd4f99955140b4d4f778dc": {
      "model_module": "@jupyter-widgets/base",
      "model_module_version": "2.0.0",
      "model_name": "LayoutModel",
      "state": {
       "_model_module": "@jupyter-widgets/base",
       "_model_module_version": "2.0.0",
       "_model_name": "LayoutModel",
       "_view_count": null,
       "_view_module": "@jupyter-widgets/base",
       "_view_module_version": "2.0.0",
       "_view_name": "LayoutView",
       "align_content": null,
       "align_items": null,
       "align_self": null,
       "border_bottom": null,
       "border_left": null,
       "border_right": null,
       "border_top": null,
       "bottom": null,
       "display": null,
       "flex": null,
       "flex_flow": null,
       "grid_area": null,
       "grid_auto_columns": null,
       "grid_auto_flow": null,
       "grid_auto_rows": null,
       "grid_column": null,
       "grid_gap": null,
       "grid_row": null,
       "grid_template_areas": null,
       "grid_template_columns": null,
       "grid_template_rows": null,
       "height": null,
       "justify_content": null,
       "justify_items": null,
       "left": null,
       "margin": null,
       "max_height": null,
       "max_width": null,
       "min_height": null,
       "min_width": null,
       "object_fit": null,
       "object_position": null,
       "order": null,
       "overflow": null,
       "padding": null,
       "right": null,
       "top": null,
       "visibility": null,
       "width": "20px"
      }
     },
     "92f317c1affd49beaebd99051cfe5046": {
      "model_module": "@jupyter-widgets/base",
      "model_module_version": "2.0.0",
      "model_name": "LayoutModel",
      "state": {
       "_model_module": "@jupyter-widgets/base",
       "_model_module_version": "2.0.0",
       "_model_name": "LayoutModel",
       "_view_count": null,
       "_view_module": "@jupyter-widgets/base",
       "_view_module_version": "2.0.0",
       "_view_name": "LayoutView",
       "align_content": null,
       "align_items": null,
       "align_self": null,
       "border_bottom": null,
       "border_left": null,
       "border_right": null,
       "border_top": null,
       "bottom": null,
       "display": null,
       "flex": null,
       "flex_flow": null,
       "grid_area": null,
       "grid_auto_columns": null,
       "grid_auto_flow": null,
       "grid_auto_rows": null,
       "grid_column": null,
       "grid_gap": null,
       "grid_row": null,
       "grid_template_areas": null,
       "grid_template_columns": null,
       "grid_template_rows": null,
       "height": null,
       "justify_content": null,
       "justify_items": null,
       "left": null,
       "margin": null,
       "max_height": null,
       "max_width": null,
       "min_height": null,
       "min_width": null,
       "object_fit": null,
       "object_position": null,
       "order": null,
       "overflow": null,
       "padding": null,
       "right": null,
       "top": null,
       "visibility": null,
       "width": null
      }
     },
     "96f37e7def914cc888ea0f680ef910e7": {
      "model_module": "@jupyter-widgets/base",
      "model_module_version": "2.0.0",
      "model_name": "LayoutModel",
      "state": {
       "_model_module": "@jupyter-widgets/base",
       "_model_module_version": "2.0.0",
       "_model_name": "LayoutModel",
       "_view_count": null,
       "_view_module": "@jupyter-widgets/base",
       "_view_module_version": "2.0.0",
       "_view_name": "LayoutView",
       "align_content": null,
       "align_items": null,
       "align_self": null,
       "border_bottom": null,
       "border_left": null,
       "border_right": null,
       "border_top": null,
       "bottom": null,
       "display": null,
       "flex": null,
       "flex_flow": null,
       "grid_area": null,
       "grid_auto_columns": null,
       "grid_auto_flow": null,
       "grid_auto_rows": null,
       "grid_column": null,
       "grid_gap": null,
       "grid_row": null,
       "grid_template_areas": null,
       "grid_template_columns": null,
       "grid_template_rows": null,
       "height": null,
       "justify_content": null,
       "justify_items": null,
       "left": null,
       "margin": null,
       "max_height": null,
       "max_width": null,
       "min_height": null,
       "min_width": null,
       "object_fit": null,
       "object_position": null,
       "order": null,
       "overflow": null,
       "padding": null,
       "right": null,
       "top": null,
       "visibility": null,
       "width": null
      }
     },
     "9aa86efb73a94a01a4e445e098e13aae": {
      "model_module": "@jupyter-widgets/controls",
      "model_module_version": "2.0.0",
      "model_name": "HTMLStyleModel",
      "state": {
       "_model_module": "@jupyter-widgets/controls",
       "_model_module_version": "2.0.0",
       "_model_name": "HTMLStyleModel",
       "_view_count": null,
       "_view_module": "@jupyter-widgets/base",
       "_view_module_version": "2.0.0",
       "_view_name": "StyleView",
       "background": null,
       "description_width": "",
       "font_size": null,
       "text_color": null
      }
     },
     "9f8f2853950e4bd69e6b78183c74ece4": {
      "model_module": "@jupyter-widgets/controls",
      "model_module_version": "2.0.0",
      "model_name": "FloatProgressModel",
      "state": {
       "_dom_classes": [],
       "_model_module": "@jupyter-widgets/controls",
       "_model_module_version": "2.0.0",
       "_model_name": "FloatProgressModel",
       "_view_count": null,
       "_view_module": "@jupyter-widgets/controls",
       "_view_module_version": "2.0.0",
       "_view_name": "ProgressView",
       "bar_style": "success",
       "description": "",
       "description_allow_html": false,
       "layout": "IPY_MODEL_79b7e52d764946569a3e515312dcd718",
       "max": 1.0,
       "min": 0.0,
       "orientation": "horizontal",
       "style": "IPY_MODEL_b497aea02cf5421cb3038f6cde7eaa4e",
       "tabbable": null,
       "tooltip": null,
       "value": 1.0
      }
     },
     "a43ebee9d3f1458aac6f06902f663286": {
      "model_module": "@jupyter-widgets/controls",
      "model_module_version": "2.0.0",
      "model_name": "ProgressStyleModel",
      "state": {
       "_model_module": "@jupyter-widgets/controls",
       "_model_module_version": "2.0.0",
       "_model_name": "ProgressStyleModel",
       "_view_count": null,
       "_view_module": "@jupyter-widgets/base",
       "_view_module_version": "2.0.0",
       "_view_name": "StyleView",
       "bar_color": null,
       "description_width": ""
      }
     },
     "a61de6ac5ad342339052ff1b03a5f424": {
      "model_module": "@jupyter-widgets/controls",
      "model_module_version": "2.0.0",
      "model_name": "HTMLModel",
      "state": {
       "_dom_classes": [],
       "_model_module": "@jupyter-widgets/controls",
       "_model_module_version": "2.0.0",
       "_model_name": "HTMLModel",
       "_view_count": null,
       "_view_module": "@jupyter-widgets/controls",
       "_view_module_version": "2.0.0",
       "_view_name": "HTMLView",
       "description": "",
       "description_allow_html": false,
       "layout": "IPY_MODEL_2a9ad0967063448aa6102bd2e877a2dc",
       "placeholder": "​",
       "style": "IPY_MODEL_c7b3443214fa4267bfaf968178726290",
       "tabbable": null,
       "tooltip": null,
       "value": " 1/? [00:01&lt;00:00,  1.49s/it]"
      }
     },
     "a82744a572dd4cf185372a91cc213028": {
      "model_module": "@jupyter-widgets/controls",
      "model_module_version": "2.0.0",
      "model_name": "HTMLStyleModel",
      "state": {
       "_model_module": "@jupyter-widgets/controls",
       "_model_module_version": "2.0.0",
       "_model_name": "HTMLStyleModel",
       "_view_count": null,
       "_view_module": "@jupyter-widgets/base",
       "_view_module_version": "2.0.0",
       "_view_name": "StyleView",
       "background": null,
       "description_width": "",
       "font_size": null,
       "text_color": null
      }
     },
     "adb44975db774caf8737da7cd427947a": {
      "model_module": "@jupyter-widgets/controls",
      "model_module_version": "2.0.0",
      "model_name": "HTMLStyleModel",
      "state": {
       "_model_module": "@jupyter-widgets/controls",
       "_model_module_version": "2.0.0",
       "_model_name": "HTMLStyleModel",
       "_view_count": null,
       "_view_module": "@jupyter-widgets/base",
       "_view_module_version": "2.0.0",
       "_view_name": "StyleView",
       "background": null,
       "description_width": "",
       "font_size": null,
       "text_color": null
      }
     },
     "ae2c61cacdda4b51952121c49c26a7a1": {
      "model_module": "@jupyter-widgets/controls",
      "model_module_version": "2.0.0",
      "model_name": "HTMLModel",
      "state": {
       "_dom_classes": [],
       "_model_module": "@jupyter-widgets/controls",
       "_model_module_version": "2.0.0",
       "_model_name": "HTMLModel",
       "_view_count": null,
       "_view_module": "@jupyter-widgets/controls",
       "_view_module_version": "2.0.0",
       "_view_name": "HTMLView",
       "description": "",
       "description_allow_html": false,
       "layout": "IPY_MODEL_fafea07e50504895b7ae28c475987da5",
       "placeholder": "​",
       "style": "IPY_MODEL_6593a5f3e8f4483989931828b1f8192a",
       "tabbable": null,
       "tooltip": null,
       "value": ""
      }
     },
     "b199e646576446718b5730d6fce36691": {
      "model_module": "@jupyter-widgets/base",
      "model_module_version": "2.0.0",
      "model_name": "LayoutModel",
      "state": {
       "_model_module": "@jupyter-widgets/base",
       "_model_module_version": "2.0.0",
       "_model_name": "LayoutModel",
       "_view_count": null,
       "_view_module": "@jupyter-widgets/base",
       "_view_module_version": "2.0.0",
       "_view_name": "LayoutView",
       "align_content": null,
       "align_items": null,
       "align_self": null,
       "border_bottom": null,
       "border_left": null,
       "border_right": null,
       "border_top": null,
       "bottom": null,
       "display": null,
       "flex": null,
       "flex_flow": null,
       "grid_area": null,
       "grid_auto_columns": null,
       "grid_auto_flow": null,
       "grid_auto_rows": null,
       "grid_column": null,
       "grid_gap": null,
       "grid_row": null,
       "grid_template_areas": null,
       "grid_template_columns": null,
       "grid_template_rows": null,
       "height": null,
       "justify_content": null,
       "justify_items": null,
       "left": null,
       "margin": null,
       "max_height": null,
       "max_width": null,
       "min_height": null,
       "min_width": null,
       "object_fit": null,
       "object_position": null,
       "order": null,
       "overflow": null,
       "padding": null,
       "right": null,
       "top": null,
       "visibility": null,
       "width": null
      }
     },
     "b20a7b5cae4a4a50b46786dfe18c4b64": {
      "model_module": "@jupyter-widgets/controls",
      "model_module_version": "2.0.0",
      "model_name": "HTMLModel",
      "state": {
       "_dom_classes": [],
       "_model_module": "@jupyter-widgets/controls",
       "_model_module_version": "2.0.0",
       "_model_name": "HTMLModel",
       "_view_count": null,
       "_view_module": "@jupyter-widgets/controls",
       "_view_module_version": "2.0.0",
       "_view_name": "HTMLView",
       "description": "",
       "description_allow_html": false,
       "layout": "IPY_MODEL_92f317c1affd49beaebd99051cfe5046",
       "placeholder": "​",
       "style": "IPY_MODEL_9aa86efb73a94a01a4e445e098e13aae",
       "tabbable": null,
       "tooltip": null,
       "value": " 1/? [00:01&lt;00:00,  1.74s/it]"
      }
     },
     "b497aea02cf5421cb3038f6cde7eaa4e": {
      "model_module": "@jupyter-widgets/controls",
      "model_module_version": "2.0.0",
      "model_name": "ProgressStyleModel",
      "state": {
       "_model_module": "@jupyter-widgets/controls",
       "_model_module_version": "2.0.0",
       "_model_name": "ProgressStyleModel",
       "_view_count": null,
       "_view_module": "@jupyter-widgets/base",
       "_view_module_version": "2.0.0",
       "_view_name": "StyleView",
       "bar_color": null,
       "description_width": ""
      }
     },
     "b6988fb617014550b1db28ef7bb9dcc3": {
      "model_module": "@jupyter-widgets/base",
      "model_module_version": "2.0.0",
      "model_name": "LayoutModel",
      "state": {
       "_model_module": "@jupyter-widgets/base",
       "_model_module_version": "2.0.0",
       "_model_name": "LayoutModel",
       "_view_count": null,
       "_view_module": "@jupyter-widgets/base",
       "_view_module_version": "2.0.0",
       "_view_name": "LayoutView",
       "align_content": null,
       "align_items": null,
       "align_self": null,
       "border_bottom": null,
       "border_left": null,
       "border_right": null,
       "border_top": null,
       "bottom": null,
       "display": null,
       "flex": null,
       "flex_flow": null,
       "grid_area": null,
       "grid_auto_columns": null,
       "grid_auto_flow": null,
       "grid_auto_rows": null,
       "grid_column": null,
       "grid_gap": null,
       "grid_row": null,
       "grid_template_areas": null,
       "grid_template_columns": null,
       "grid_template_rows": null,
       "height": null,
       "justify_content": null,
       "justify_items": null,
       "left": null,
       "margin": null,
       "max_height": null,
       "max_width": null,
       "min_height": null,
       "min_width": null,
       "object_fit": null,
       "object_position": null,
       "order": null,
       "overflow": null,
       "padding": null,
       "right": null,
       "top": null,
       "visibility": null,
       "width": null
      }
     },
     "ba883d80f61d4630b5c0ed71007f6bee": {
      "model_module": "@jupyter-widgets/controls",
      "model_module_version": "2.0.0",
      "model_name": "HBoxModel",
      "state": {
       "_dom_classes": [],
       "_model_module": "@jupyter-widgets/controls",
       "_model_module_version": "2.0.0",
       "_model_name": "HBoxModel",
       "_view_count": null,
       "_view_module": "@jupyter-widgets/controls",
       "_view_module_version": "2.0.0",
       "_view_name": "HBoxView",
       "box_style": "",
       "children": [
        "IPY_MODEL_c3dc96b511024be1948f0b1a4bb05188",
        "IPY_MODEL_9f8f2853950e4bd69e6b78183c74ece4",
        "IPY_MODEL_e7810edf7df24da2b6e1aba12c89b15b"
       ],
       "layout": "IPY_MODEL_c2975173315c449a844853ad3afb8af8",
       "tabbable": null,
       "tooltip": null
      }
     },
     "c2975173315c449a844853ad3afb8af8": {
      "model_module": "@jupyter-widgets/base",
      "model_module_version": "2.0.0",
      "model_name": "LayoutModel",
      "state": {
       "_model_module": "@jupyter-widgets/base",
       "_model_module_version": "2.0.0",
       "_model_name": "LayoutModel",
       "_view_count": null,
       "_view_module": "@jupyter-widgets/base",
       "_view_module_version": "2.0.0",
       "_view_name": "LayoutView",
       "align_content": null,
       "align_items": null,
       "align_self": null,
       "border_bottom": null,
       "border_left": null,
       "border_right": null,
       "border_top": null,
       "bottom": null,
       "display": null,
       "flex": null,
       "flex_flow": null,
       "grid_area": null,
       "grid_auto_columns": null,
       "grid_auto_flow": null,
       "grid_auto_rows": null,
       "grid_column": null,
       "grid_gap": null,
       "grid_row": null,
       "grid_template_areas": null,
       "grid_template_columns": null,
       "grid_template_rows": null,
       "height": null,
       "justify_content": null,
       "justify_items": null,
       "left": null,
       "margin": null,
       "max_height": null,
       "max_width": null,
       "min_height": null,
       "min_width": null,
       "object_fit": null,
       "object_position": null,
       "order": null,
       "overflow": null,
       "padding": null,
       "right": null,
       "top": null,
       "visibility": null,
       "width": null
      }
     },
     "c3dc96b511024be1948f0b1a4bb05188": {
      "model_module": "@jupyter-widgets/controls",
      "model_module_version": "2.0.0",
      "model_name": "HTMLModel",
      "state": {
       "_dom_classes": [],
       "_model_module": "@jupyter-widgets/controls",
       "_model_module_version": "2.0.0",
       "_model_name": "HTMLModel",
       "_view_count": null,
       "_view_module": "@jupyter-widgets/controls",
       "_view_module_version": "2.0.0",
       "_view_name": "HTMLView",
       "description": "",
       "description_allow_html": false,
       "layout": "IPY_MODEL_c6078fd04334457f84b8c19e20fb80dc",
       "placeholder": "​",
       "style": "IPY_MODEL_d8b731de51624034adee6b89c6d962ea",
       "tabbable": null,
       "tooltip": null,
       "value": ""
      }
     },
     "c48b35ebfba54bd9b5030093e9797095": {
      "model_module": "@jupyter-widgets/controls",
      "model_module_version": "2.0.0",
      "model_name": "HBoxModel",
      "state": {
       "_dom_classes": [],
       "_model_module": "@jupyter-widgets/controls",
       "_model_module_version": "2.0.0",
       "_model_name": "HBoxModel",
       "_view_count": null,
       "_view_module": "@jupyter-widgets/controls",
       "_view_module_version": "2.0.0",
       "_view_name": "HBoxView",
       "box_style": "",
       "children": [
        "IPY_MODEL_ae2c61cacdda4b51952121c49c26a7a1",
        "IPY_MODEL_08fe990b2bc54a4c945a118ec7133859",
        "IPY_MODEL_54c1fe4b3c834305942e21e83c158bdf"
       ],
       "layout": "IPY_MODEL_96f37e7def914cc888ea0f680ef910e7",
       "tabbable": null,
       "tooltip": null
      }
     },
     "c6078fd04334457f84b8c19e20fb80dc": {
      "model_module": "@jupyter-widgets/base",
      "model_module_version": "2.0.0",
      "model_name": "LayoutModel",
      "state": {
       "_model_module": "@jupyter-widgets/base",
       "_model_module_version": "2.0.0",
       "_model_name": "LayoutModel",
       "_view_count": null,
       "_view_module": "@jupyter-widgets/base",
       "_view_module_version": "2.0.0",
       "_view_name": "LayoutView",
       "align_content": null,
       "align_items": null,
       "align_self": null,
       "border_bottom": null,
       "border_left": null,
       "border_right": null,
       "border_top": null,
       "bottom": null,
       "display": null,
       "flex": null,
       "flex_flow": null,
       "grid_area": null,
       "grid_auto_columns": null,
       "grid_auto_flow": null,
       "grid_auto_rows": null,
       "grid_column": null,
       "grid_gap": null,
       "grid_row": null,
       "grid_template_areas": null,
       "grid_template_columns": null,
       "grid_template_rows": null,
       "height": null,
       "justify_content": null,
       "justify_items": null,
       "left": null,
       "margin": null,
       "max_height": null,
       "max_width": null,
       "min_height": null,
       "min_width": null,
       "object_fit": null,
       "object_position": null,
       "order": null,
       "overflow": null,
       "padding": null,
       "right": null,
       "top": null,
       "visibility": null,
       "width": null
      }
     },
     "c7b3443214fa4267bfaf968178726290": {
      "model_module": "@jupyter-widgets/controls",
      "model_module_version": "2.0.0",
      "model_name": "HTMLStyleModel",
      "state": {
       "_model_module": "@jupyter-widgets/controls",
       "_model_module_version": "2.0.0",
       "_model_name": "HTMLStyleModel",
       "_view_count": null,
       "_view_module": "@jupyter-widgets/base",
       "_view_module_version": "2.0.0",
       "_view_name": "StyleView",
       "background": null,
       "description_width": "",
       "font_size": null,
       "text_color": null
      }
     },
     "c7bb6ffb480c49748b04bea9fbec43f0": {
      "model_module": "@jupyter-widgets/base",
      "model_module_version": "2.0.0",
      "model_name": "LayoutModel",
      "state": {
       "_model_module": "@jupyter-widgets/base",
       "_model_module_version": "2.0.0",
       "_model_name": "LayoutModel",
       "_view_count": null,
       "_view_module": "@jupyter-widgets/base",
       "_view_module_version": "2.0.0",
       "_view_name": "LayoutView",
       "align_content": null,
       "align_items": null,
       "align_self": null,
       "border_bottom": null,
       "border_left": null,
       "border_right": null,
       "border_top": null,
       "bottom": null,
       "display": null,
       "flex": null,
       "flex_flow": null,
       "grid_area": null,
       "grid_auto_columns": null,
       "grid_auto_flow": null,
       "grid_auto_rows": null,
       "grid_column": null,
       "grid_gap": null,
       "grid_row": null,
       "grid_template_areas": null,
       "grid_template_columns": null,
       "grid_template_rows": null,
       "height": null,
       "justify_content": null,
       "justify_items": null,
       "left": null,
       "margin": null,
       "max_height": null,
       "max_width": null,
       "min_height": null,
       "min_width": null,
       "object_fit": null,
       "object_position": null,
       "order": null,
       "overflow": null,
       "padding": null,
       "right": null,
       "top": null,
       "visibility": null,
       "width": null
      }
     },
     "d03cc8be8993441bbdc5b29cc6098eb5": {
      "model_module": "@jupyter-widgets/base",
      "model_module_version": "2.0.0",
      "model_name": "LayoutModel",
      "state": {
       "_model_module": "@jupyter-widgets/base",
       "_model_module_version": "2.0.0",
       "_model_name": "LayoutModel",
       "_view_count": null,
       "_view_module": "@jupyter-widgets/base",
       "_view_module_version": "2.0.0",
       "_view_name": "LayoutView",
       "align_content": null,
       "align_items": null,
       "align_self": null,
       "border_bottom": null,
       "border_left": null,
       "border_right": null,
       "border_top": null,
       "bottom": null,
       "display": null,
       "flex": null,
       "flex_flow": null,
       "grid_area": null,
       "grid_auto_columns": null,
       "grid_auto_flow": null,
       "grid_auto_rows": null,
       "grid_column": null,
       "grid_gap": null,
       "grid_row": null,
       "grid_template_areas": null,
       "grid_template_columns": null,
       "grid_template_rows": null,
       "height": null,
       "justify_content": null,
       "justify_items": null,
       "left": null,
       "margin": null,
       "max_height": null,
       "max_width": null,
       "min_height": null,
       "min_width": null,
       "object_fit": null,
       "object_position": null,
       "order": null,
       "overflow": null,
       "padding": null,
       "right": null,
       "top": null,
       "visibility": null,
       "width": "20px"
      }
     },
     "d4642122c1f24bd2afd52323eb4ae935": {
      "model_module": "@jupyter-widgets/controls",
      "model_module_version": "2.0.0",
      "model_name": "HTMLModel",
      "state": {
       "_dom_classes": [],
       "_model_module": "@jupyter-widgets/controls",
       "_model_module_version": "2.0.0",
       "_model_name": "HTMLModel",
       "_view_count": null,
       "_view_module": "@jupyter-widgets/controls",
       "_view_module_version": "2.0.0",
       "_view_name": "HTMLView",
       "description": "",
       "description_allow_html": false,
       "layout": "IPY_MODEL_517b65188eb340db94839fdc834467d6",
       "placeholder": "​",
       "style": "IPY_MODEL_adb44975db774caf8737da7cd427947a",
       "tabbable": null,
       "tooltip": null,
       "value": "100%"
      }
     },
     "d6cbfa96fd0e4351880a531e28df92c2": {
      "model_module": "@jupyter-widgets/controls",
      "model_module_version": "2.0.0",
      "model_name": "HBoxModel",
      "state": {
       "_dom_classes": [],
       "_model_module": "@jupyter-widgets/controls",
       "_model_module_version": "2.0.0",
       "_model_name": "HBoxModel",
       "_view_count": null,
       "_view_module": "@jupyter-widgets/controls",
       "_view_module_version": "2.0.0",
       "_view_name": "HBoxView",
       "box_style": "",
       "children": [
        "IPY_MODEL_f1addf18de234161a4be5b630787769f",
        "IPY_MODEL_547365b016ec4840bc0113af326f9e13",
        "IPY_MODEL_b20a7b5cae4a4a50b46786dfe18c4b64"
       ],
       "layout": "IPY_MODEL_dec2ae417ea9494e8c40820014523d86",
       "tabbable": null,
       "tooltip": null
      }
     },
     "d8b731de51624034adee6b89c6d962ea": {
      "model_module": "@jupyter-widgets/controls",
      "model_module_version": "2.0.0",
      "model_name": "HTMLStyleModel",
      "state": {
       "_model_module": "@jupyter-widgets/controls",
       "_model_module_version": "2.0.0",
       "_model_name": "HTMLStyleModel",
       "_view_count": null,
       "_view_module": "@jupyter-widgets/base",
       "_view_module_version": "2.0.0",
       "_view_name": "StyleView",
       "background": null,
       "description_width": "",
       "font_size": null,
       "text_color": null
      }
     },
     "daa4654134c44727a821879875aa45fa": {
      "model_module": "@jupyter-widgets/controls",
      "model_module_version": "2.0.0",
      "model_name": "ProgressStyleModel",
      "state": {
       "_model_module": "@jupyter-widgets/controls",
       "_model_module_version": "2.0.0",
       "_model_name": "ProgressStyleModel",
       "_view_count": null,
       "_view_module": "@jupyter-widgets/base",
       "_view_module_version": "2.0.0",
       "_view_name": "StyleView",
       "bar_color": null,
       "description_width": ""
      }
     },
     "dec2ae417ea9494e8c40820014523d86": {
      "model_module": "@jupyter-widgets/base",
      "model_module_version": "2.0.0",
      "model_name": "LayoutModel",
      "state": {
       "_model_module": "@jupyter-widgets/base",
       "_model_module_version": "2.0.0",
       "_model_name": "LayoutModel",
       "_view_count": null,
       "_view_module": "@jupyter-widgets/base",
       "_view_module_version": "2.0.0",
       "_view_name": "LayoutView",
       "align_content": null,
       "align_items": null,
       "align_self": null,
       "border_bottom": null,
       "border_left": null,
       "border_right": null,
       "border_top": null,
       "bottom": null,
       "display": null,
       "flex": null,
       "flex_flow": null,
       "grid_area": null,
       "grid_auto_columns": null,
       "grid_auto_flow": null,
       "grid_auto_rows": null,
       "grid_column": null,
       "grid_gap": null,
       "grid_row": null,
       "grid_template_areas": null,
       "grid_template_columns": null,
       "grid_template_rows": null,
       "height": null,
       "justify_content": null,
       "justify_items": null,
       "left": null,
       "margin": null,
       "max_height": null,
       "max_width": null,
       "min_height": null,
       "min_width": null,
       "object_fit": null,
       "object_position": null,
       "order": null,
       "overflow": null,
       "padding": null,
       "right": null,
       "top": null,
       "visibility": null,
       "width": null
      }
     },
     "e50eefd43ab644f0b2578e716a7d26db": {
      "model_module": "@jupyter-widgets/base",
      "model_module_version": "2.0.0",
      "model_name": "LayoutModel",
      "state": {
       "_model_module": "@jupyter-widgets/base",
       "_model_module_version": "2.0.0",
       "_model_name": "LayoutModel",
       "_view_count": null,
       "_view_module": "@jupyter-widgets/base",
       "_view_module_version": "2.0.0",
       "_view_name": "LayoutView",
       "align_content": null,
       "align_items": null,
       "align_self": null,
       "border_bottom": null,
       "border_left": null,
       "border_right": null,
       "border_top": null,
       "bottom": null,
       "display": null,
       "flex": null,
       "flex_flow": null,
       "grid_area": null,
       "grid_auto_columns": null,
       "grid_auto_flow": null,
       "grid_auto_rows": null,
       "grid_column": null,
       "grid_gap": null,
       "grid_row": null,
       "grid_template_areas": null,
       "grid_template_columns": null,
       "grid_template_rows": null,
       "height": null,
       "justify_content": null,
       "justify_items": null,
       "left": null,
       "margin": null,
       "max_height": null,
       "max_width": null,
       "min_height": null,
       "min_width": null,
       "object_fit": null,
       "object_position": null,
       "order": null,
       "overflow": null,
       "padding": null,
       "right": null,
       "top": null,
       "visibility": null,
       "width": null
      }
     },
     "e5fcd09eb2ff42a8bac10878735b699c": {
      "model_module": "@jupyter-widgets/controls",
      "model_module_version": "2.0.0",
      "model_name": "FloatProgressModel",
      "state": {
       "_dom_classes": [],
       "_model_module": "@jupyter-widgets/controls",
       "_model_module_version": "2.0.0",
       "_model_name": "FloatProgressModel",
       "_view_count": null,
       "_view_module": "@jupyter-widgets/controls",
       "_view_module_version": "2.0.0",
       "_view_name": "ProgressView",
       "bar_style": "success",
       "description": "",
       "description_allow_html": false,
       "layout": "IPY_MODEL_80bd7e93cdc6484faf03e3fb7dbdfb66",
       "max": 15.0,
       "min": 0.0,
       "orientation": "horizontal",
       "style": "IPY_MODEL_a43ebee9d3f1458aac6f06902f663286",
       "tabbable": null,
       "tooltip": null,
       "value": 15.0
      }
     },
     "e7810edf7df24da2b6e1aba12c89b15b": {
      "model_module": "@jupyter-widgets/controls",
      "model_module_version": "2.0.0",
      "model_name": "HTMLModel",
      "state": {
       "_dom_classes": [],
       "_model_module": "@jupyter-widgets/controls",
       "_model_module_version": "2.0.0",
       "_model_name": "HTMLModel",
       "_view_count": null,
       "_view_module": "@jupyter-widgets/controls",
       "_view_module_version": "2.0.0",
       "_view_name": "HTMLView",
       "description": "",
       "description_allow_html": false,
       "layout": "IPY_MODEL_c7bb6ffb480c49748b04bea9fbec43f0",
       "placeholder": "​",
       "style": "IPY_MODEL_f0c81c2d0dc5419bb67c9c2e834b57df",
       "tabbable": null,
       "tooltip": null,
       "value": " 24/? [00:01&lt;00:00, 18.47it/s]"
      }
     },
     "eb051b8d18dc4dc683e48f3cababae65": {
      "model_module": "@jupyter-widgets/controls",
      "model_module_version": "2.0.0",
      "model_name": "HTMLStyleModel",
      "state": {
       "_model_module": "@jupyter-widgets/controls",
       "_model_module_version": "2.0.0",
       "_model_name": "HTMLStyleModel",
       "_view_count": null,
       "_view_module": "@jupyter-widgets/base",
       "_view_module_version": "2.0.0",
       "_view_name": "StyleView",
       "background": null,
       "description_width": "",
       "font_size": null,
       "text_color": null
      }
     },
     "f0c81c2d0dc5419bb67c9c2e834b57df": {
      "model_module": "@jupyter-widgets/controls",
      "model_module_version": "2.0.0",
      "model_name": "HTMLStyleModel",
      "state": {
       "_model_module": "@jupyter-widgets/controls",
       "_model_module_version": "2.0.0",
       "_model_name": "HTMLStyleModel",
       "_view_count": null,
       "_view_module": "@jupyter-widgets/base",
       "_view_module_version": "2.0.0",
       "_view_name": "StyleView",
       "background": null,
       "description_width": "",
       "font_size": null,
       "text_color": null
      }
     },
     "f1addf18de234161a4be5b630787769f": {
      "model_module": "@jupyter-widgets/controls",
      "model_module_version": "2.0.0",
      "model_name": "HTMLModel",
      "state": {
       "_dom_classes": [],
       "_model_module": "@jupyter-widgets/controls",
       "_model_module_version": "2.0.0",
       "_model_name": "HTMLModel",
       "_view_count": null,
       "_view_module": "@jupyter-widgets/controls",
       "_view_module_version": "2.0.0",
       "_view_name": "HTMLView",
       "description": "",
       "description_allow_html": false,
       "layout": "IPY_MODEL_b6988fb617014550b1db28ef7bb9dcc3",
       "placeholder": "​",
       "style": "IPY_MODEL_7faf2db376104bcfb840355b664bc901",
       "tabbable": null,
       "tooltip": null,
       "value": ""
      }
     },
     "fafea07e50504895b7ae28c475987da5": {
      "model_module": "@jupyter-widgets/base",
      "model_module_version": "2.0.0",
      "model_name": "LayoutModel",
      "state": {
       "_model_module": "@jupyter-widgets/base",
       "_model_module_version": "2.0.0",
       "_model_name": "LayoutModel",
       "_view_count": null,
       "_view_module": "@jupyter-widgets/base",
       "_view_module_version": "2.0.0",
       "_view_name": "LayoutView",
       "align_content": null,
       "align_items": null,
       "align_self": null,
       "border_bottom": null,
       "border_left": null,
       "border_right": null,
       "border_top": null,
       "bottom": null,
       "display": null,
       "flex": null,
       "flex_flow": null,
       "grid_area": null,
       "grid_auto_columns": null,
       "grid_auto_flow": null,
       "grid_auto_rows": null,
       "grid_column": null,
       "grid_gap": null,
       "grid_row": null,
       "grid_template_areas": null,
       "grid_template_columns": null,
       "grid_template_rows": null,
       "height": null,
       "justify_content": null,
       "justify_items": null,
       "left": null,
       "margin": null,
       "max_height": null,
       "max_width": null,
       "min_height": null,
       "min_width": null,
       "object_fit": null,
       "object_position": null,
       "order": null,
       "overflow": null,
       "padding": null,
       "right": null,
       "top": null,
       "visibility": null,
       "width": null
      }
     }
    },
    "version_major": 2,
    "version_minor": 0
   }
  }
 },
 "nbformat": 4,
 "nbformat_minor": 5
}